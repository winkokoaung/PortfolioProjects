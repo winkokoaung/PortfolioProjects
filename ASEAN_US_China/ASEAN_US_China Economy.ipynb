{
 "cells": [
  {
   "cell_type": "code",
   "execution_count": 1,
   "id": "85ae6893",
   "metadata": {},
   "outputs": [],
   "source": [
    "import pandas as pd\n",
    "from matplotlib import pyplot as plt"
   ]
  },
  {
   "cell_type": "code",
   "execution_count": 8,
   "id": "a2eab4b5",
   "metadata": {},
   "outputs": [],
   "source": [
    "data = pd.read_csv('ASEAN_US_China.csv')"
   ]
  },
  {
   "cell_type": "code",
   "execution_count": 10,
   "id": "d389b917",
   "metadata": {},
   "outputs": [
    {
     "data": {
      "text/html": [
       "<div>\n",
       "<style scoped>\n",
       "    .dataframe tbody tr th:only-of-type {\n",
       "        vertical-align: middle;\n",
       "    }\n",
       "\n",
       "    .dataframe tbody tr th {\n",
       "        vertical-align: top;\n",
       "    }\n",
       "\n",
       "    .dataframe thead th {\n",
       "        text-align: right;\n",
       "    }\n",
       "</style>\n",
       "<table border=\"1\" class=\"dataframe\">\n",
       "  <thead>\n",
       "    <tr style=\"text-align: right;\">\n",
       "      <th></th>\n",
       "      <th>CountryName</th>\n",
       "      <th>Year</th>\n",
       "      <th>GDPValue</th>\n",
       "    </tr>\n",
       "  </thead>\n",
       "  <tbody>\n",
       "    <tr>\n",
       "      <th>0</th>\n",
       "      <td>Brunei Darussalam</td>\n",
       "      <td>1960</td>\n",
       "      <td>NaN</td>\n",
       "    </tr>\n",
       "    <tr>\n",
       "      <th>1</th>\n",
       "      <td>Brunei Darussalam</td>\n",
       "      <td>1961</td>\n",
       "      <td>NaN</td>\n",
       "    </tr>\n",
       "    <tr>\n",
       "      <th>2</th>\n",
       "      <td>Brunei Darussalam</td>\n",
       "      <td>1962</td>\n",
       "      <td>NaN</td>\n",
       "    </tr>\n",
       "    <tr>\n",
       "      <th>3</th>\n",
       "      <td>Brunei Darussalam</td>\n",
       "      <td>1963</td>\n",
       "      <td>NaN</td>\n",
       "    </tr>\n",
       "    <tr>\n",
       "      <th>4</th>\n",
       "      <td>Brunei Darussalam</td>\n",
       "      <td>1964</td>\n",
       "      <td>NaN</td>\n",
       "    </tr>\n",
       "  </tbody>\n",
       "</table>\n",
       "</div>"
      ],
      "text/plain": [
       "         CountryName  Year  GDPValue\n",
       "0  Brunei Darussalam  1960       NaN\n",
       "1  Brunei Darussalam  1961       NaN\n",
       "2  Brunei Darussalam  1962       NaN\n",
       "3  Brunei Darussalam  1963       NaN\n",
       "4  Brunei Darussalam  1964       NaN"
      ]
     },
     "execution_count": 10,
     "metadata": {},
     "output_type": "execute_result"
    }
   ],
   "source": [
    "data.head()"
   ]
  },
  {
   "cell_type": "code",
   "execution_count": 22,
   "id": "22219ef9",
   "metadata": {},
   "outputs": [],
   "source": [
    "US = data[data.CountryName == 'United States']\n",
    "China = data[data.CountryName == 'China']\n",
    "ASEAN = data[data.CountryName == 'ASEAN Region']"
   ]
  },
  {
   "cell_type": "code",
   "execution_count": 29,
   "id": "e29a4c10",
   "metadata": {},
   "outputs": [
    {
     "name": "stdout",
     "output_type": "stream",
     "text": [
      "       CountryName  Year      GDPValue\n",
      "620  United States  1960  5.430000e+11\n",
      "621  United States  1961  5.630000e+11\n",
      "622  United States  1962  6.050000e+11\n",
      "623  United States  1963  6.390000e+11\n",
      "624  United States  1964  6.860000e+11\n",
      "..             ...   ...           ...\n",
      "677  United States  2017  1.950000e+13\n",
      "678  United States  2018  2.050000e+13\n",
      "679  United States  2019  2.140000e+13\n",
      "680  United States  2020  2.090000e+13\n",
      "681  United States  2021  2.300000e+13\n",
      "\n",
      "[62 rows x 3 columns]\n",
      "    CountryName  Year      GDPValue\n",
      "124       China  1960  5.971647e+10\n",
      "125       China  1961  5.005687e+10\n",
      "126       China  1962  4.720936e+10\n",
      "127       China  1963  5.070680e+10\n",
      "128       China  1964  5.970834e+10\n",
      "..          ...   ...           ...\n",
      "181       China  2017  1.230000e+13\n",
      "182       China  2018  1.390000e+13\n",
      "183       China  2019  1.430000e+13\n",
      "184       China  2020  1.470000e+13\n",
      "185       China  2021  1.770000e+13\n",
      "\n",
      "[62 rows x 3 columns]\n",
      "      CountryName  Year      GDPValue\n",
      "744  ASEAN Region  1960  1.353478e+10\n",
      "745  ASEAN Region  1961  1.509894e+10\n",
      "746  ASEAN Region  1962  1.236371e+10\n",
      "747  ASEAN Region  1963  1.386175e+10\n",
      "748  ASEAN Region  1964  1.466955e+10\n",
      "..            ...   ...           ...\n",
      "801  ASEAN Region  2017  2.860000e+12\n",
      "802  ASEAN Region  2018  3.060000e+12\n",
      "803  ASEAN Region  2019  3.240000e+12\n",
      "804  ASEAN Region  2020  3.080000e+12\n",
      "805  ASEAN Region  2021  3.350000e+12\n",
      "\n",
      "[62 rows x 3 columns]\n"
     ]
    }
   ],
   "source": [
    "print (US)\n",
    "print (China)\n",
    "print (ASEAN)"
   ]
  },
  {
   "cell_type": "code",
   "execution_count": 58,
   "id": "3b4af64d",
   "metadata": {},
   "outputs": [
    {
     "data": {
      "image/png": "[encoded data removed]",
      "text/plain": [
       "<Figure size 432x288 with 1 Axes>"
      ]
     },
     "metadata": {
      "needs_background": "light"
     },
     "output_type": "display_data"
    }
   ],
   "source": [
    "plt.plot(US.Year, US.GDPValue / 10**10)\n",
    "plt.plot(China.Year, China.GDPValue / 10**10)\n",
    "plt.plot(ASEAN.Year, ASEAN.GDPValue / 10**10)\n",
    "plt.legend(['United States', 'China', 'ASEAN'])\n",
    "plt.xlabel('year')\n",
    "plt.ylabel('GDP Value')\n",
    "plt.show()"
   ]
  },
  {
   "cell_type": "code",
   "execution_count": 51,
   "id": "040c1dea",
   "metadata": {},
   "outputs": [
    {
     "data": {
      "text/plain": [
       "13534775290.0"
      ]
     },
     "execution_count": 51,
     "metadata": {},
     "output_type": "execute_result"
    }
   ],
   "source": [
    "US.GDPValue.iloc[0]\n",
    "China.GDPValue.iloc[0]\n",
    "ASEAN.GDPValue.iloc[0]"
   ]
  },
  {
   "cell_type": "code",
   "execution_count": 54,
   "id": "f33ff6eb",
   "metadata": {},
   "outputs": [],
   "source": [
    "US_Growth = US.GDPValue / US.GDPValue.iloc[0] * 100\n",
    "China_Growth = China.GDPValue / China.GDPValue.iloc[0] * 100\n",
    "ASEAN_Growth = ASEAN.GDPValue / ASEAN.GDPValue.iloc[0] * 100"
   ]
  },
  {
   "cell_type": "code",
   "execution_count": 69,
   "id": "26cd8f4d",
   "metadata": {},
   "outputs": [
    {
     "data": {
      "image/png": "[encoded data removed]",
      "text/plain": [
       "<Figure size 432x288 with 1 Axes>"
      ]
     },
     "metadata": {
      "needs_background": "light"
     },
     "output_type": "display_data"
    }
   ],
   "source": [
    "plt.title('GDP Value Growth (first year = 100)')\n",
    "plt.plot(US.Year, US_Growth)\n",
    "plt.plot(China.Year, China_Growth)\n",
    "plt.plot(ASEAN.Year, ASEAN_Growth)\n",
    "plt.legend(['United States', 'China', 'ASEAN'])\n",
    "plt.xlabel('year')\n",
    "plt.ylabel('GDP Value Growth')\n",
    "plt.savefig('result.png', dpi = 200)\n",
    "plt.show()"
   ]
  },
  {
   "cell_type": "code",
   "execution_count": null,
   "id": "13a48456",
   "metadata": {},
   "outputs": [],
   "source": []
  }
 ],
 "metadata": {
  "kernelspec": {
   "display_name": "Python 3 (ipykernel)",
   "language": "python",
   "name": "python3"
  },
  "language_info": {
   "codemirror_mode": {
    "name": "ipython",
    "version": 3
   },
   "file_extension": ".py",
   "mimetype": "text/x-python",
   "name": "python",
   "nbconvert_exporter": "python",
   "pygments_lexer": "ipython3",
   "version": "3.9.12"
  }
 },
 "nbformat": 4,
 "nbformat_minor": 5
}
